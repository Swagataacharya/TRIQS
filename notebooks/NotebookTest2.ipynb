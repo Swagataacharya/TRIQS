{
    "worksheets": [
        {
            "cells": [
                {
                    "cell_type": "code", 
                    "language": "python", 
                    "outputs": [], 
                    "collapsed": false, 
                    "prompt_number": 5, 
                    "input": "import numpy\nfrom pytriqs.Base.GF_Local import *\nfrom pytriqs.Base.Plot.MatplotlibInterface import oplot\n\ngf = GFBloc_ReFreq(Indices = [1], Beta = 50, MeshArray = numpy.arange(-30,30,0.1), Name = \"egBlock\")\ngf[1,1] =  SemiCircular(HalfBandwidth = 2)\n\ng = gf.InverseFourier()\noplot(g.imag, '-o', g.real, '-x')"
                }, 
                {
                    "cell_type": "code", 
                    "language": "python", 
                    "outputs": [], 
                    "collapsed": false, 
                    "prompt_number": 6, 
                    "input": "gf2 = gf.copy()\ngf2 <<= Fourier(g)\noplot(gf2.imag, '-o', x_window = (-5,5) )\noplot(gf.imag, '-x')\n"
                }, 
                {
                    "cell_type": "code", 
                    "language": "python", 
                    "outputs": [], 
                    "collapsed": false, 
                    "prompt_number": 3, 
                    "input": "gg = g.copy()\ngg <<= InverseFourier(gf2)\noplot(g.imag, '-o')\noplot(gg.imag, '-x')\n\n\n"
                }
            ]
        }
    ], 
    "metadata": {
        "name": "NotebookTest2"
    }, 
    "nbformat": 2
}