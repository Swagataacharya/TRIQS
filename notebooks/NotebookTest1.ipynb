{
    "worksheets": [
        {
            "cells": [
                {
                    "cell_type": "code", 
                    "language": "python", 
                    "outputs": [], 
                    "collapsed": false, 
                    "prompt_number": 4, 
                    "input": "import numpy,cmath\nfrom pytriqs.Base.GF_Local import GFBloc_ReTime\nfrom pytriqs.Base.Plot.MatplotlibInterface import oplot\n\nHeaviside = lambda t : 1 if t>=0 else 0\n\na = 5.0\nA = 100.0\ni = 1j\nd = 4*A-a*a\ns =sqrt(d) if d>=0 else i* sqrt(-d)\nb,c = a/2  + i* s/2, a/2 - i * s/2\nl1,l2 = -i *b, -i *c\n\na1 = (l1 + i * a) / ( 2 * l1 + i * a )\na2 = (l2 + i * a) / ( 2 * l2 + i * a )\n\nf = lambda t: (-i*a1*cmath.exp(-b* abs(t)) + -i*a2*cmath.exp(- c* abs(t))) * Heaviside(t)\n\ngt = GFBloc_ReTime( Indices = [1], Beta = 10, TimeMin = -50, TimeMax = 50,NTimeSlices = 10000 )\nfor n,t in enumerate(gt.mesh) : gt._data.array[:,:,n] = f(t)\n    \ngw = gt.Fourier()\ngt2 = gw.InverseFourier()\n\noplot(gt, '-o', x_window  = (-1,2) )\noplot(gt2, x_window  = (-1,2) )\n    "
                }, 
                {
                    "cell_type": "code", 
                    "language": "python", 
                    "outputs": [], 
                    "collapsed": false, 
                    "prompt_number": 5, 
                    "input": "oplot(gw, '-o', Name = \"gw\", x_window = (-30,30))\noplot(lambda om : imag(1/(om - A/(om + i*a))), Name=\"ExactI\", NPoints = 1000)\noplot(lambda om : real(1/(om - A/(om + i*a))), Name=\"ExactR\", NPoints = 1000)\n\n"
                }
            ]
        }
    ], 
    "metadata": {
        "name": "NotebookTest1"
    }, 
    "nbformat": 2
}